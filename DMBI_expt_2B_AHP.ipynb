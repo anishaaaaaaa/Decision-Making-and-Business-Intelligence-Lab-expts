{
  "nbformat": 4,
  "nbformat_minor": 0,
  "metadata": {
    "colab": {
      "name": "DMBI expt 2B- AHP.ipynb",
      "provenance": [],
      "collapsed_sections": []
    },
    "kernelspec": {
      "name": "python3",
      "display_name": "Python 3"
    }
  },
  "cells": [
    {
      "cell_type": "markdown",
      "metadata": {
        "id": "kokHv90Fnx3-",
        "colab_type": "text"
      },
      "source": [
        "Anisha Gharat\n",
        "\n",
        "BE Comps Batch E\n",
        "\n",
        "Roll no.: 68\n",
        "\n",
        "UID: 2018230071"
      ]
    },
    {
      "cell_type": "markdown",
      "metadata": {
        "id": "sH3hbKR1yxYk",
        "colab_type": "text"
      },
      "source": [
        "# **EXPERIMENT NO. 2B**\n",
        "\n",
        "**Aim:** To apply AHP method to \"Machinability Evaluation of  Work Materials\" as given in the book."
      ]
    },
    {
      "cell_type": "markdown",
      "metadata": {
        "id": "4IH_fEGtoJVi",
        "colab_type": "text"
      },
      "source": [
        "# **TextBook Sum**"
      ]
    },
    {
      "cell_type": "code",
      "metadata": {
        "id": "113Fi7ZralmL",
        "colab_type": "code",
        "colab": {
          "base_uri": "https://localhost:8080/",
          "height": 252
        },
        "outputId": "74c9b7b0-c3f2-4b2b-8601-bc8e646d3fc6"
      },
      "source": [
        "import pandas as pd\n",
        "\n",
        "tf = pd.DataFrame(columns = [\"VC\", \"CF\", \"PI\"])\n",
        "tf[\"VC\"] = [710,900,1630,1720,120,160]\n",
        "tf[\"CF\"] = [400,415,440,235,1150,1750]\n",
        "tf[\"PI\"] = [28,38,59,43,8,19]\n",
        "print(\"Book Sum Dataset:\")\n",
        "tf"
      ],
      "execution_count": 1,
      "outputs": [
        {
          "output_type": "stream",
          "text": [
            "Book Sum Dataset:\n"
          ],
          "name": "stdout"
        },
        {
          "output_type": "execute_result",
          "data": {
            "text/html": [
              "<div>\n",
              "<style scoped>\n",
              "    .dataframe tbody tr th:only-of-type {\n",
              "        vertical-align: middle;\n",
              "    }\n",
              "\n",
              "    .dataframe tbody tr th {\n",
              "        vertical-align: top;\n",
              "    }\n",
              "\n",
              "    .dataframe thead th {\n",
              "        text-align: right;\n",
              "    }\n",
              "</style>\n",
              "<table border=\"1\" class=\"dataframe\">\n",
              "  <thead>\n",
              "    <tr style=\"text-align: right;\">\n",
              "      <th></th>\n",
              "      <th>VC</th>\n",
              "      <th>CF</th>\n",
              "      <th>PI</th>\n",
              "    </tr>\n",
              "  </thead>\n",
              "  <tbody>\n",
              "    <tr>\n",
              "      <th>0</th>\n",
              "      <td>710</td>\n",
              "      <td>400</td>\n",
              "      <td>28</td>\n",
              "    </tr>\n",
              "    <tr>\n",
              "      <th>1</th>\n",
              "      <td>900</td>\n",
              "      <td>415</td>\n",
              "      <td>38</td>\n",
              "    </tr>\n",
              "    <tr>\n",
              "      <th>2</th>\n",
              "      <td>1630</td>\n",
              "      <td>440</td>\n",
              "      <td>59</td>\n",
              "    </tr>\n",
              "    <tr>\n",
              "      <th>3</th>\n",
              "      <td>1720</td>\n",
              "      <td>235</td>\n",
              "      <td>43</td>\n",
              "    </tr>\n",
              "    <tr>\n",
              "      <th>4</th>\n",
              "      <td>120</td>\n",
              "      <td>1150</td>\n",
              "      <td>8</td>\n",
              "    </tr>\n",
              "    <tr>\n",
              "      <th>5</th>\n",
              "      <td>160</td>\n",
              "      <td>1750</td>\n",
              "      <td>19</td>\n",
              "    </tr>\n",
              "  </tbody>\n",
              "</table>\n",
              "</div>"
            ],
            "text/plain": [
              "     VC    CF  PI\n",
              "0   710   400  28\n",
              "1   900   415  38\n",
              "2  1630   440  59\n",
              "3  1720   235  43\n",
              "4   120  1150   8\n",
              "5   160  1750  19"
            ]
          },
          "metadata": {
            "tags": []
          },
          "execution_count": 1
        }
      ]
    },
    {
      "cell_type": "code",
      "metadata": {
        "id": "jTh4lKeeasAG",
        "colab_type": "code",
        "colab": {
          "base_uri": "https://localhost:8080/",
          "height": 252
        },
        "outputId": "4304f132-656d-4c7f-f3cc-f8f4e4eb75b4"
      },
      "source": [
        "nf=pd.DataFrame(columns=[\"VC\", \"CF\", \"PI\"])\n",
        "nf[\"VC\"] = [0.4128, 0.5233, 0.9477, 1, 0.0698, 0.0932]\n",
        "nf[\"CF\"] = [0.5875, 0.5663, 0.5341, 1, 0.2043, 0.1343]\n",
        "nf[\"PI\"] = [0.2857, 0.2105, 0.1356, 0.1860, 1, 0.4211]\n",
        "print(\"Normalised data of the attributes:\")\n",
        "nf"
      ],
      "execution_count": 2,
      "outputs": [
        {
          "output_type": "stream",
          "text": [
            "Normalised data of the attributes:\n"
          ],
          "name": "stdout"
        },
        {
          "output_type": "execute_result",
          "data": {
            "text/html": [
              "<div>\n",
              "<style scoped>\n",
              "    .dataframe tbody tr th:only-of-type {\n",
              "        vertical-align: middle;\n",
              "    }\n",
              "\n",
              "    .dataframe tbody tr th {\n",
              "        vertical-align: top;\n",
              "    }\n",
              "\n",
              "    .dataframe thead th {\n",
              "        text-align: right;\n",
              "    }\n",
              "</style>\n",
              "<table border=\"1\" class=\"dataframe\">\n",
              "  <thead>\n",
              "    <tr style=\"text-align: right;\">\n",
              "      <th></th>\n",
              "      <th>VC</th>\n",
              "      <th>CF</th>\n",
              "      <th>PI</th>\n",
              "    </tr>\n",
              "  </thead>\n",
              "  <tbody>\n",
              "    <tr>\n",
              "      <th>0</th>\n",
              "      <td>0.4128</td>\n",
              "      <td>0.5875</td>\n",
              "      <td>0.2857</td>\n",
              "    </tr>\n",
              "    <tr>\n",
              "      <th>1</th>\n",
              "      <td>0.5233</td>\n",
              "      <td>0.5663</td>\n",
              "      <td>0.2105</td>\n",
              "    </tr>\n",
              "    <tr>\n",
              "      <th>2</th>\n",
              "      <td>0.9477</td>\n",
              "      <td>0.5341</td>\n",
              "      <td>0.1356</td>\n",
              "    </tr>\n",
              "    <tr>\n",
              "      <th>3</th>\n",
              "      <td>1.0000</td>\n",
              "      <td>1.0000</td>\n",
              "      <td>0.1860</td>\n",
              "    </tr>\n",
              "    <tr>\n",
              "      <th>4</th>\n",
              "      <td>0.0698</td>\n",
              "      <td>0.2043</td>\n",
              "      <td>1.0000</td>\n",
              "    </tr>\n",
              "    <tr>\n",
              "      <th>5</th>\n",
              "      <td>0.0932</td>\n",
              "      <td>0.1343</td>\n",
              "      <td>0.4211</td>\n",
              "    </tr>\n",
              "  </tbody>\n",
              "</table>\n",
              "</div>"
            ],
            "text/plain": [
              "       VC      CF      PI\n",
              "0  0.4128  0.5875  0.2857\n",
              "1  0.5233  0.5663  0.2105\n",
              "2  0.9477  0.5341  0.1356\n",
              "3  1.0000  1.0000  0.1860\n",
              "4  0.0698  0.2043  1.0000\n",
              "5  0.0932  0.1343  0.4211"
            ]
          },
          "metadata": {
            "tags": []
          },
          "execution_count": 2
        }
      ]
    },
    {
      "cell_type": "code",
      "metadata": {
        "id": "8UFUzNoAawnQ",
        "colab_type": "code",
        "colab": {
          "base_uri": "https://localhost:8080/",
          "height": 159
        },
        "outputId": "fd976a2c-c702-490a-e8c7-b0bc36491b89"
      },
      "source": [
        "ef=pd.DataFrame(columns=[\"VC\", \"CF\", \"PI\"])\n",
        "ef[\"VC\"] = [1,0.255,0.255]\n",
        "ef[\"CF\"] = [0.745,1,0.5]\n",
        "ef[\"PI\"] = [0.745,0.5,1]\n",
        "print(\"Normalised Pairwise comparison matrix:\")\n",
        "ef"
      ],
      "execution_count": 3,
      "outputs": [
        {
          "output_type": "stream",
          "text": [
            "Normalised Pairwise comparison matrix:\n"
          ],
          "name": "stdout"
        },
        {
          "output_type": "execute_result",
          "data": {
            "text/html": [
              "<div>\n",
              "<style scoped>\n",
              "    .dataframe tbody tr th:only-of-type {\n",
              "        vertical-align: middle;\n",
              "    }\n",
              "\n",
              "    .dataframe tbody tr th {\n",
              "        vertical-align: top;\n",
              "    }\n",
              "\n",
              "    .dataframe thead th {\n",
              "        text-align: right;\n",
              "    }\n",
              "</style>\n",
              "<table border=\"1\" class=\"dataframe\">\n",
              "  <thead>\n",
              "    <tr style=\"text-align: right;\">\n",
              "      <th></th>\n",
              "      <th>VC</th>\n",
              "      <th>CF</th>\n",
              "      <th>PI</th>\n",
              "    </tr>\n",
              "  </thead>\n",
              "  <tbody>\n",
              "    <tr>\n",
              "      <th>0</th>\n",
              "      <td>1.000</td>\n",
              "      <td>0.745</td>\n",
              "      <td>0.745</td>\n",
              "    </tr>\n",
              "    <tr>\n",
              "      <th>1</th>\n",
              "      <td>0.255</td>\n",
              "      <td>1.000</td>\n",
              "      <td>0.500</td>\n",
              "    </tr>\n",
              "    <tr>\n",
              "      <th>2</th>\n",
              "      <td>0.255</td>\n",
              "      <td>0.500</td>\n",
              "      <td>1.000</td>\n",
              "    </tr>\n",
              "  </tbody>\n",
              "</table>\n",
              "</div>"
            ],
            "text/plain": [
              "      VC     CF     PI\n",
              "0  1.000  0.745  0.745\n",
              "1  0.255  1.000  0.500\n",
              "2  0.255  0.500  1.000"
            ]
          },
          "metadata": {
            "tags": []
          },
          "execution_count": 3
        }
      ]
    },
    {
      "cell_type": "code",
      "metadata": {
        "id": "r6s1q8cha-xl",
        "colab_type": "code",
        "colab": {
          "base_uri": "https://localhost:8080/",
          "height": 142
        },
        "outputId": "5fd1e858-441a-4721-ca28-edc17d651aa1"
      },
      "source": [
        "ef['Geometric Mean'] = ef.prod(axis=1)**(1/3)\n",
        "ef"
      ],
      "execution_count": 4,
      "outputs": [
        {
          "output_type": "execute_result",
          "data": {
            "text/html": [
              "<div>\n",
              "<style scoped>\n",
              "    .dataframe tbody tr th:only-of-type {\n",
              "        vertical-align: middle;\n",
              "    }\n",
              "\n",
              "    .dataframe tbody tr th {\n",
              "        vertical-align: top;\n",
              "    }\n",
              "\n",
              "    .dataframe thead th {\n",
              "        text-align: right;\n",
              "    }\n",
              "</style>\n",
              "<table border=\"1\" class=\"dataframe\">\n",
              "  <thead>\n",
              "    <tr style=\"text-align: right;\">\n",
              "      <th></th>\n",
              "      <th>VC</th>\n",
              "      <th>CF</th>\n",
              "      <th>PI</th>\n",
              "      <th>Geometric Mean</th>\n",
              "    </tr>\n",
              "  </thead>\n",
              "  <tbody>\n",
              "    <tr>\n",
              "      <th>0</th>\n",
              "      <td>1.000</td>\n",
              "      <td>0.745</td>\n",
              "      <td>0.745</td>\n",
              "      <td>0.821809</td>\n",
              "    </tr>\n",
              "    <tr>\n",
              "      <th>1</th>\n",
              "      <td>0.255</td>\n",
              "      <td>1.000</td>\n",
              "      <td>0.500</td>\n",
              "      <td>0.503311</td>\n",
              "    </tr>\n",
              "    <tr>\n",
              "      <th>2</th>\n",
              "      <td>0.255</td>\n",
              "      <td>0.500</td>\n",
              "      <td>1.000</td>\n",
              "      <td>0.503311</td>\n",
              "    </tr>\n",
              "  </tbody>\n",
              "</table>\n",
              "</div>"
            ],
            "text/plain": [
              "      VC     CF     PI  Geometric Mean\n",
              "0  1.000  0.745  0.745        0.821809\n",
              "1  0.255  1.000  0.500        0.503311\n",
              "2  0.255  0.500  1.000        0.503311"
            ]
          },
          "metadata": {
            "tags": []
          },
          "execution_count": 4
        }
      ]
    },
    {
      "cell_type": "code",
      "metadata": {
        "id": "MYfC3tslbCXT",
        "colab_type": "code",
        "colab": {
          "base_uri": "https://localhost:8080/",
          "height": 34
        },
        "outputId": "a8153e9c-2c59-4af1-e4e3-8f195a3ce3c5"
      },
      "source": [
        "gmsum = ef['Geometric Mean'].sum()\n",
        "print(\"Sum of Geometric mean: \",gmsum)"
      ],
      "execution_count": 5,
      "outputs": [
        {
          "output_type": "stream",
          "text": [
            "Sum of Geometric mean:  1.828431625150487\n"
          ],
          "name": "stdout"
        }
      ]
    },
    {
      "cell_type": "code",
      "metadata": {
        "id": "J7PT0YR7bDT8",
        "colab_type": "code",
        "colab": {
          "base_uri": "https://localhost:8080/",
          "height": 142
        },
        "outputId": "bc6679c9-79dc-49ed-c1d4-7faf6c81f908"
      },
      "source": [
        "ef['Normalized Geometric Mean'] = ef['Geometric Mean']/gmsum\n",
        "ef"
      ],
      "execution_count": 6,
      "outputs": [
        {
          "output_type": "execute_result",
          "data": {
            "text/html": [
              "<div>\n",
              "<style scoped>\n",
              "    .dataframe tbody tr th:only-of-type {\n",
              "        vertical-align: middle;\n",
              "    }\n",
              "\n",
              "    .dataframe tbody tr th {\n",
              "        vertical-align: top;\n",
              "    }\n",
              "\n",
              "    .dataframe thead th {\n",
              "        text-align: right;\n",
              "    }\n",
              "</style>\n",
              "<table border=\"1\" class=\"dataframe\">\n",
              "  <thead>\n",
              "    <tr style=\"text-align: right;\">\n",
              "      <th></th>\n",
              "      <th>VC</th>\n",
              "      <th>CF</th>\n",
              "      <th>PI</th>\n",
              "      <th>Geometric Mean</th>\n",
              "      <th>Normalized Geometric Mean</th>\n",
              "    </tr>\n",
              "  </thead>\n",
              "  <tbody>\n",
              "    <tr>\n",
              "      <th>0</th>\n",
              "      <td>1.000</td>\n",
              "      <td>0.745</td>\n",
              "      <td>0.745</td>\n",
              "      <td>0.821809</td>\n",
              "      <td>0.449461</td>\n",
              "    </tr>\n",
              "    <tr>\n",
              "      <th>1</th>\n",
              "      <td>0.255</td>\n",
              "      <td>1.000</td>\n",
              "      <td>0.500</td>\n",
              "      <td>0.503311</td>\n",
              "      <td>0.275269</td>\n",
              "    </tr>\n",
              "    <tr>\n",
              "      <th>2</th>\n",
              "      <td>0.255</td>\n",
              "      <td>0.500</td>\n",
              "      <td>1.000</td>\n",
              "      <td>0.503311</td>\n",
              "      <td>0.275269</td>\n",
              "    </tr>\n",
              "  </tbody>\n",
              "</table>\n",
              "</div>"
            ],
            "text/plain": [
              "      VC     CF     PI  Geometric Mean  Normalized Geometric Mean\n",
              "0  1.000  0.745  0.745        0.821809                   0.449461\n",
              "1  0.255  1.000  0.500        0.503311                   0.275269\n",
              "2  0.255  0.500  1.000        0.503311                   0.275269"
            ]
          },
          "metadata": {
            "tags": []
          },
          "execution_count": 6
        }
      ]
    },
    {
      "cell_type": "code",
      "metadata": {
        "id": "FFf6A7qCbGHs",
        "colab_type": "code",
        "colab": {
          "base_uri": "https://localhost:8080/",
          "height": 34
        },
        "outputId": "748b8db3-04f8-48b9-8f8a-af54fdfbffb0"
      },
      "source": [
        "ngmsum=ef['Normalized Geometric Mean'].sum()\n",
        "print(\"Normalized Geometric Mean sum: \",ngmsum)"
      ],
      "execution_count": 7,
      "outputs": [
        {
          "output_type": "stream",
          "text": [
            "Normalized Geometric Mean sum:  0.9999999999999998\n"
          ],
          "name": "stdout"
        }
      ]
    },
    {
      "cell_type": "code",
      "metadata": {
        "id": "3cxU3Rc8bI-H",
        "colab_type": "code",
        "colab": {
          "base_uri": "https://localhost:8080/",
          "height": 142
        },
        "outputId": "44914336-f9bc-4875-f122-ecc4c8b5947d"
      },
      "source": [
        "del ef['Geometric Mean']\n",
        "ef"
      ],
      "execution_count": 8,
      "outputs": [
        {
          "output_type": "execute_result",
          "data": {
            "text/html": [
              "<div>\n",
              "<style scoped>\n",
              "    .dataframe tbody tr th:only-of-type {\n",
              "        vertical-align: middle;\n",
              "    }\n",
              "\n",
              "    .dataframe tbody tr th {\n",
              "        vertical-align: top;\n",
              "    }\n",
              "\n",
              "    .dataframe thead th {\n",
              "        text-align: right;\n",
              "    }\n",
              "</style>\n",
              "<table border=\"1\" class=\"dataframe\">\n",
              "  <thead>\n",
              "    <tr style=\"text-align: right;\">\n",
              "      <th></th>\n",
              "      <th>VC</th>\n",
              "      <th>CF</th>\n",
              "      <th>PI</th>\n",
              "      <th>Normalized Geometric Mean</th>\n",
              "    </tr>\n",
              "  </thead>\n",
              "  <tbody>\n",
              "    <tr>\n",
              "      <th>0</th>\n",
              "      <td>1.000</td>\n",
              "      <td>0.745</td>\n",
              "      <td>0.745</td>\n",
              "      <td>0.449461</td>\n",
              "    </tr>\n",
              "    <tr>\n",
              "      <th>1</th>\n",
              "      <td>0.255</td>\n",
              "      <td>1.000</td>\n",
              "      <td>0.500</td>\n",
              "      <td>0.275269</td>\n",
              "    </tr>\n",
              "    <tr>\n",
              "      <th>2</th>\n",
              "      <td>0.255</td>\n",
              "      <td>0.500</td>\n",
              "      <td>1.000</td>\n",
              "      <td>0.275269</td>\n",
              "    </tr>\n",
              "  </tbody>\n",
              "</table>\n",
              "</div>"
            ],
            "text/plain": [
              "      VC     CF     PI  Normalized Geometric Mean\n",
              "0  1.000  0.745  0.745                   0.449461\n",
              "1  0.255  1.000  0.500                   0.275269\n",
              "2  0.255  0.500  1.000                   0.275269"
            ]
          },
          "metadata": {
            "tags": []
          },
          "execution_count": 8
        }
      ]
    },
    {
      "cell_type": "code",
      "metadata": {
        "id": "wdQ14s76bPp7",
        "colab_type": "code",
        "colab": {
          "base_uri": "https://localhost:8080/",
          "height": 85
        },
        "outputId": "9529e03d-9357-4eb7-d98c-4876066306aa"
      },
      "source": [
        "af = pd.DataFrame()\n",
        "af = ef['Normalized Geometric Mean']\n",
        "af"
      ],
      "execution_count": 9,
      "outputs": [
        {
          "output_type": "execute_result",
          "data": {
            "text/plain": [
              "0    0.449461\n",
              "1    0.275269\n",
              "2    0.275269\n",
              "Name: Normalized Geometric Mean, dtype: float64"
            ]
          },
          "metadata": {
            "tags": []
          },
          "execution_count": 9
        }
      ]
    },
    {
      "cell_type": "code",
      "metadata": {
        "id": "RKdok9rKjqkR",
        "colab_type": "code",
        "colab": {}
      },
      "source": [
        "bf=ef['VC']\n",
        "cf=ef['CF']\n",
        "df=ef['PI']"
      ],
      "execution_count": 10,
      "outputs": []
    },
    {
      "cell_type": "code",
      "metadata": {
        "id": "VCPutouzk2DV",
        "colab_type": "code",
        "colab": {}
      },
      "source": [
        "vc=bf*af[0]\n",
        "cf=cf*af[1]\n",
        "pi=df*af[2]\n",
        "vcd = pd.DataFrame(vc)\n",
        "cfd = pd.DataFrame(cf)\n",
        "pid = pd.DataFrame(pi)"
      ],
      "execution_count": 11,
      "outputs": []
    },
    {
      "cell_type": "code",
      "metadata": {
        "id": "591DmY0Oa0oD",
        "colab_type": "code",
        "colab": {
          "base_uri": "https://localhost:8080/",
          "height": 159
        },
        "outputId": "7f59c17d-5ed7-4001-d27d-5990d030a6a0"
      },
      "source": [
        "ff = pd.concat([vcd, cfd, pid], axis=1)\n",
        "print(\"Check for Consistency\")\n",
        "ff"
      ],
      "execution_count": 12,
      "outputs": [
        {
          "output_type": "stream",
          "text": [
            "Check for Consistency\n"
          ],
          "name": "stdout"
        },
        {
          "output_type": "execute_result",
          "data": {
            "text/html": [
              "<div>\n",
              "<style scoped>\n",
              "    .dataframe tbody tr th:only-of-type {\n",
              "        vertical-align: middle;\n",
              "    }\n",
              "\n",
              "    .dataframe tbody tr th {\n",
              "        vertical-align: top;\n",
              "    }\n",
              "\n",
              "    .dataframe thead th {\n",
              "        text-align: right;\n",
              "    }\n",
              "</style>\n",
              "<table border=\"1\" class=\"dataframe\">\n",
              "  <thead>\n",
              "    <tr style=\"text-align: right;\">\n",
              "      <th></th>\n",
              "      <th>VC</th>\n",
              "      <th>CF</th>\n",
              "      <th>PI</th>\n",
              "    </tr>\n",
              "  </thead>\n",
              "  <tbody>\n",
              "    <tr>\n",
              "      <th>0</th>\n",
              "      <td>0.449461</td>\n",
              "      <td>0.205076</td>\n",
              "      <td>0.205076</td>\n",
              "    </tr>\n",
              "    <tr>\n",
              "      <th>1</th>\n",
              "      <td>0.114613</td>\n",
              "      <td>0.275269</td>\n",
              "      <td>0.137635</td>\n",
              "    </tr>\n",
              "    <tr>\n",
              "      <th>2</th>\n",
              "      <td>0.114613</td>\n",
              "      <td>0.137635</td>\n",
              "      <td>0.275269</td>\n",
              "    </tr>\n",
              "  </tbody>\n",
              "</table>\n",
              "</div>"
            ],
            "text/plain": [
              "         VC        CF        PI\n",
              "0  0.449461  0.205076  0.205076\n",
              "1  0.114613  0.275269  0.137635\n",
              "2  0.114613  0.137635  0.275269"
            ]
          },
          "metadata": {
            "tags": []
          },
          "execution_count": 12
        }
      ]
    },
    {
      "cell_type": "code",
      "metadata": {
        "id": "dg_m4PswuFmC",
        "colab_type": "code",
        "colab": {
          "base_uri": "https://localhost:8080/",
          "height": 142
        },
        "outputId": "d4385bd5-60a9-4634-fcc1-aab981de71ce"
      },
      "source": [
        "A3=pd.DataFrame(columns=['A3=A1*A2'])\n",
        "A3['A3=A1*A2']=ff.sum(axis=1)\n",
        "A3"
      ],
      "execution_count": 13,
      "outputs": [
        {
          "output_type": "execute_result",
          "data": {
            "text/html": [
              "<div>\n",
              "<style scoped>\n",
              "    .dataframe tbody tr th:only-of-type {\n",
              "        vertical-align: middle;\n",
              "    }\n",
              "\n",
              "    .dataframe tbody tr th {\n",
              "        vertical-align: top;\n",
              "    }\n",
              "\n",
              "    .dataframe thead th {\n",
              "        text-align: right;\n",
              "    }\n",
              "</style>\n",
              "<table border=\"1\" class=\"dataframe\">\n",
              "  <thead>\n",
              "    <tr style=\"text-align: right;\">\n",
              "      <th></th>\n",
              "      <th>A3=A1*A2</th>\n",
              "    </tr>\n",
              "  </thead>\n",
              "  <tbody>\n",
              "    <tr>\n",
              "      <th>0</th>\n",
              "      <td>0.859613</td>\n",
              "    </tr>\n",
              "    <tr>\n",
              "      <th>1</th>\n",
              "      <td>0.527517</td>\n",
              "    </tr>\n",
              "    <tr>\n",
              "      <th>2</th>\n",
              "      <td>0.527517</td>\n",
              "    </tr>\n",
              "  </tbody>\n",
              "</table>\n",
              "</div>"
            ],
            "text/plain": [
              "   A3=A1*A2\n",
              "0  0.859613\n",
              "1  0.527517\n",
              "2  0.527517"
            ]
          },
          "metadata": {
            "tags": []
          },
          "execution_count": 13
        }
      ]
    },
    {
      "cell_type": "code",
      "metadata": {
        "id": "pqyehQkcvBAq",
        "colab_type": "code",
        "colab": {
          "base_uri": "https://localhost:8080/",
          "height": 142
        },
        "outputId": "43863f3c-52a9-4c7f-e79f-f32d9de2e6f7"
      },
      "source": [
        "a3=A3['A3=A1*A2']\n",
        "a4=a3/af\n",
        "A4=pd.DataFrame(columns=['A4'])\n",
        "A4['A4']=a4\n",
        "A4"
      ],
      "execution_count": 14,
      "outputs": [
        {
          "output_type": "execute_result",
          "data": {
            "text/html": [
              "<div>\n",
              "<style scoped>\n",
              "    .dataframe tbody tr th:only-of-type {\n",
              "        vertical-align: middle;\n",
              "    }\n",
              "\n",
              "    .dataframe tbody tr th {\n",
              "        vertical-align: top;\n",
              "    }\n",
              "\n",
              "    .dataframe thead th {\n",
              "        text-align: right;\n",
              "    }\n",
              "</style>\n",
              "<table border=\"1\" class=\"dataframe\">\n",
              "  <thead>\n",
              "    <tr style=\"text-align: right;\">\n",
              "      <th></th>\n",
              "      <th>A4</th>\n",
              "    </tr>\n",
              "  </thead>\n",
              "  <tbody>\n",
              "    <tr>\n",
              "      <th>0</th>\n",
              "      <td>1.912540</td>\n",
              "    </tr>\n",
              "    <tr>\n",
              "      <th>1</th>\n",
              "      <td>1.916365</td>\n",
              "    </tr>\n",
              "    <tr>\n",
              "      <th>2</th>\n",
              "      <td>1.916365</td>\n",
              "    </tr>\n",
              "  </tbody>\n",
              "</table>\n",
              "</div>"
            ],
            "text/plain": [
              "         A4\n",
              "0  1.912540\n",
              "1  1.916365\n",
              "2  1.916365"
            ]
          },
          "metadata": {
            "tags": []
          },
          "execution_count": 14
        }
      ]
    },
    {
      "cell_type": "code",
      "metadata": {
        "id": "K1cSTGh_yDLp",
        "colab_type": "code",
        "colab": {
          "base_uri": "https://localhost:8080/",
          "height": 34
        },
        "outputId": "d0ee7554-a144-4b8b-e1a2-49e127a3651d"
      },
      "source": [
        "Ymax=A4['A4'].mean()\n",
        "print(\"Average of A4 (Ymax): \",Ymax)"
      ],
      "execution_count": 15,
      "outputs": [
        {
          "output_type": "stream",
          "text": [
            "Average of A4 (Ymax):  1.9150902212482916\n"
          ],
          "name": "stdout"
        }
      ]
    },
    {
      "cell_type": "code",
      "metadata": {
        "id": "xFCZTKAFzyyx",
        "colab_type": "code",
        "colab": {
          "base_uri": "https://localhost:8080/",
          "height": 51
        },
        "outputId": "1a5fcc93-d522-4701-f631-10508473a571"
      },
      "source": [
        "n=3\n",
        "CI = (Ymax-n)/(n-1)\n",
        "print(\"Consistency Index (CI) = \",CI)\n",
        "RI = 0.52\n",
        "CR = CI/RI\n",
        "print(\"Consistency Ratio (CR) = \",CR)"
      ],
      "execution_count": 16,
      "outputs": [
        {
          "output_type": "stream",
          "text": [
            "Consistency Index (CI) =  -0.5424548893758542\n",
            "Consistency Ratio (CR) =  -1.0431824795689504\n"
          ],
          "name": "stdout"
        }
      ]
    },
    {
      "cell_type": "markdown",
      "metadata": {
        "id": "zlDw1iyU2RW6",
        "colab_type": "text"
      },
      "source": [
        "**CR = -1.0431824795689504 is less than 0.10. Hence the matrix is consistent.**"
      ]
    },
    {
      "cell_type": "code",
      "metadata": {
        "id": "Z5Xajs3C0wuD",
        "colab_type": "code",
        "colab": {
          "base_uri": "https://localhost:8080/",
          "height": 159
        },
        "outputId": "78c1a5ba-28e0-431e-80e8-fa18fa5ff48c"
      },
      "source": [
        "jf = pd.DataFrame(columns=['Normalized Geometric Mean','Percentage of Weightage'])\n",
        "jf['Normalized Geometric Mean'] = af\n",
        "jf['Percentage of Weightage'] = af*100\n",
        "print(\"Model Synthesis\")\n",
        "jf"
      ],
      "execution_count": 17,
      "outputs": [
        {
          "output_type": "stream",
          "text": [
            "Model Synthesis\n"
          ],
          "name": "stdout"
        },
        {
          "output_type": "execute_result",
          "data": {
            "text/html": [
              "<div>\n",
              "<style scoped>\n",
              "    .dataframe tbody tr th:only-of-type {\n",
              "        vertical-align: middle;\n",
              "    }\n",
              "\n",
              "    .dataframe tbody tr th {\n",
              "        vertical-align: top;\n",
              "    }\n",
              "\n",
              "    .dataframe thead th {\n",
              "        text-align: right;\n",
              "    }\n",
              "</style>\n",
              "<table border=\"1\" class=\"dataframe\">\n",
              "  <thead>\n",
              "    <tr style=\"text-align: right;\">\n",
              "      <th></th>\n",
              "      <th>Normalized Geometric Mean</th>\n",
              "      <th>Percentage of Weightage</th>\n",
              "    </tr>\n",
              "  </thead>\n",
              "  <tbody>\n",
              "    <tr>\n",
              "      <th>0</th>\n",
              "      <td>0.449461</td>\n",
              "      <td>44.946111</td>\n",
              "    </tr>\n",
              "    <tr>\n",
              "      <th>1</th>\n",
              "      <td>0.275269</td>\n",
              "      <td>27.526944</td>\n",
              "    </tr>\n",
              "    <tr>\n",
              "      <th>2</th>\n",
              "      <td>0.275269</td>\n",
              "      <td>27.526944</td>\n",
              "    </tr>\n",
              "  </tbody>\n",
              "</table>\n",
              "</div>"
            ],
            "text/plain": [
              "   Normalized Geometric Mean  Percentage of Weightage\n",
              "0                   0.449461                44.946111\n",
              "1                   0.275269                27.526944\n",
              "2                   0.275269                27.526944"
            ]
          },
          "metadata": {
            "tags": []
          },
          "execution_count": 17
        }
      ]
    },
    {
      "cell_type": "markdown",
      "metadata": {
        "id": "h05YhAtJubDI",
        "colab_type": "text"
      },
      "source": [
        "**VC is a beneficial attribute and CF & PI are non-beneficial attributes**"
      ]
    },
    {
      "cell_type": "code",
      "metadata": {
        "id": "15npAw2YGtaB",
        "colab_type": "code",
        "colab": {
          "base_uri": "https://localhost:8080/",
          "height": 235
        },
        "outputId": "328acf8c-7d9a-47e9-cdc1-d5e865baec67"
      },
      "source": [
        "tf"
      ],
      "execution_count": 18,
      "outputs": [
        {
          "output_type": "execute_result",
          "data": {
            "text/html": [
              "<div>\n",
              "<style scoped>\n",
              "    .dataframe tbody tr th:only-of-type {\n",
              "        vertical-align: middle;\n",
              "    }\n",
              "\n",
              "    .dataframe tbody tr th {\n",
              "        vertical-align: top;\n",
              "    }\n",
              "\n",
              "    .dataframe thead th {\n",
              "        text-align: right;\n",
              "    }\n",
              "</style>\n",
              "<table border=\"1\" class=\"dataframe\">\n",
              "  <thead>\n",
              "    <tr style=\"text-align: right;\">\n",
              "      <th></th>\n",
              "      <th>VC</th>\n",
              "      <th>CF</th>\n",
              "      <th>PI</th>\n",
              "    </tr>\n",
              "  </thead>\n",
              "  <tbody>\n",
              "    <tr>\n",
              "      <th>0</th>\n",
              "      <td>710</td>\n",
              "      <td>400</td>\n",
              "      <td>28</td>\n",
              "    </tr>\n",
              "    <tr>\n",
              "      <th>1</th>\n",
              "      <td>900</td>\n",
              "      <td>415</td>\n",
              "      <td>38</td>\n",
              "    </tr>\n",
              "    <tr>\n",
              "      <th>2</th>\n",
              "      <td>1630</td>\n",
              "      <td>440</td>\n",
              "      <td>59</td>\n",
              "    </tr>\n",
              "    <tr>\n",
              "      <th>3</th>\n",
              "      <td>1720</td>\n",
              "      <td>235</td>\n",
              "      <td>43</td>\n",
              "    </tr>\n",
              "    <tr>\n",
              "      <th>4</th>\n",
              "      <td>120</td>\n",
              "      <td>1150</td>\n",
              "      <td>8</td>\n",
              "    </tr>\n",
              "    <tr>\n",
              "      <th>5</th>\n",
              "      <td>160</td>\n",
              "      <td>1750</td>\n",
              "      <td>19</td>\n",
              "    </tr>\n",
              "  </tbody>\n",
              "</table>\n",
              "</div>"
            ],
            "text/plain": [
              "     VC    CF  PI\n",
              "0   710   400  28\n",
              "1   900   415  38\n",
              "2  1630   440  59\n",
              "3  1720   235  43\n",
              "4   120  1150   8\n",
              "5   160  1750  19"
            ]
          },
          "metadata": {
            "tags": []
          },
          "execution_count": 18
        }
      ]
    },
    {
      "cell_type": "code",
      "metadata": {
        "id": "umm6TsUTEyhH",
        "colab_type": "code",
        "colab": {
          "base_uri": "https://localhost:8080/",
          "height": 85
        },
        "outputId": "c1ecc8cd-0d98-4c81-cc84-7edad79c9aa3"
      },
      "source": [
        "vcmax = int(tf[\"VC\"].max())\n",
        "cfmin = int(tf[\"CF\"].min())\n",
        "pimin = int(tf[\"PI\"].min())\n",
        "print(\"Min-Max values:\")\n",
        "print(\"Max of VC: \",vcmax)\n",
        "print(\"Min of CF: \",cfmin)\n",
        "print(\"Min of PI: \",pimin)"
      ],
      "execution_count": 19,
      "outputs": [
        {
          "output_type": "stream",
          "text": [
            "Min-Max values:\n",
            "Max of VC:  1720\n",
            "Min of CF:  235\n",
            "Min of PI:  8\n"
          ],
          "name": "stdout"
        }
      ]
    },
    {
      "cell_type": "code",
      "metadata": {
        "id": "G3aperA3KbNG",
        "colab_type": "code",
        "colab": {}
      },
      "source": [
        "w1=0.7142\n",
        "w2=0.1429\n",
        "w3=0.1429"
      ],
      "execution_count": 20,
      "outputs": []
    },
    {
      "cell_type": "code",
      "metadata": {
        "id": "CLeIOya9Ghwo",
        "colab_type": "code",
        "colab": {
          "base_uri": "https://localhost:8080/",
          "height": 252
        },
        "outputId": "c403d0ca-4f4f-4a7e-d0d9-6a759c6437ed"
      },
      "source": [
        "ndf = tf\n",
        "ndf[\"VC\"] = ndf[\"VC\"]/vcmax\n",
        "ndf[\"CF\"] = cfmin/ndf[\"CF\"]\n",
        "ndf[\"PI\"] = pimin/ndf[\"PI\"]\n",
        "print(\"Normalized Decision matrix:\")\n",
        "ndf"
      ],
      "execution_count": 21,
      "outputs": [
        {
          "output_type": "stream",
          "text": [
            "Normalized Decision matrix:\n"
          ],
          "name": "stdout"
        },
        {
          "output_type": "execute_result",
          "data": {
            "text/html": [
              "<div>\n",
              "<style scoped>\n",
              "    .dataframe tbody tr th:only-of-type {\n",
              "        vertical-align: middle;\n",
              "    }\n",
              "\n",
              "    .dataframe tbody tr th {\n",
              "        vertical-align: top;\n",
              "    }\n",
              "\n",
              "    .dataframe thead th {\n",
              "        text-align: right;\n",
              "    }\n",
              "</style>\n",
              "<table border=\"1\" class=\"dataframe\">\n",
              "  <thead>\n",
              "    <tr style=\"text-align: right;\">\n",
              "      <th></th>\n",
              "      <th>VC</th>\n",
              "      <th>CF</th>\n",
              "      <th>PI</th>\n",
              "    </tr>\n",
              "  </thead>\n",
              "  <tbody>\n",
              "    <tr>\n",
              "      <th>0</th>\n",
              "      <td>0.412791</td>\n",
              "      <td>0.587500</td>\n",
              "      <td>0.285714</td>\n",
              "    </tr>\n",
              "    <tr>\n",
              "      <th>1</th>\n",
              "      <td>0.523256</td>\n",
              "      <td>0.566265</td>\n",
              "      <td>0.210526</td>\n",
              "    </tr>\n",
              "    <tr>\n",
              "      <th>2</th>\n",
              "      <td>0.947674</td>\n",
              "      <td>0.534091</td>\n",
              "      <td>0.135593</td>\n",
              "    </tr>\n",
              "    <tr>\n",
              "      <th>3</th>\n",
              "      <td>1.000000</td>\n",
              "      <td>1.000000</td>\n",
              "      <td>0.186047</td>\n",
              "    </tr>\n",
              "    <tr>\n",
              "      <th>4</th>\n",
              "      <td>0.069767</td>\n",
              "      <td>0.204348</td>\n",
              "      <td>1.000000</td>\n",
              "    </tr>\n",
              "    <tr>\n",
              "      <th>5</th>\n",
              "      <td>0.093023</td>\n",
              "      <td>0.134286</td>\n",
              "      <td>0.421053</td>\n",
              "    </tr>\n",
              "  </tbody>\n",
              "</table>\n",
              "</div>"
            ],
            "text/plain": [
              "         VC        CF        PI\n",
              "0  0.412791  0.587500  0.285714\n",
              "1  0.523256  0.566265  0.210526\n",
              "2  0.947674  0.534091  0.135593\n",
              "3  1.000000  1.000000  0.186047\n",
              "4  0.069767  0.204348  1.000000\n",
              "5  0.093023  0.134286  0.421053"
            ]
          },
          "metadata": {
            "tags": []
          },
          "execution_count": 21
        }
      ]
    },
    {
      "cell_type": "code",
      "metadata": {
        "id": "OkvLI9IcHqZu",
        "colab_type": "code",
        "colab": {
          "base_uri": "https://localhost:8080/",
          "height": 252
        },
        "outputId": "d6618aa9-f189-461d-ff53-22cfccab73a1"
      },
      "source": [
        "ndf[\"VC\"] = ndf[\"VC\"]*w1\n",
        "ndf[\"CF\"] = ndf[\"CF\"]*w2\n",
        "ndf[\"PI\"] = ndf[\"PI\"]*w3\n",
        "ndf[\"Ai\"] = ndf.sum(axis=1)\n",
        "ndf['Rank'] = ndf['Ai'].rank(ascending = 0) \n",
        "print(\"Calculation of Ai and Ranking of Alternatives:\")\n",
        "ndf"
      ],
      "execution_count": 22,
      "outputs": [
        {
          "output_type": "stream",
          "text": [
            "Calculation of Ai and Ranking of Alternatives:\n"
          ],
          "name": "stdout"
        },
        {
          "output_type": "execute_result",
          "data": {
            "text/html": [
              "<div>\n",
              "<style scoped>\n",
              "    .dataframe tbody tr th:only-of-type {\n",
              "        vertical-align: middle;\n",
              "    }\n",
              "\n",
              "    .dataframe tbody tr th {\n",
              "        vertical-align: top;\n",
              "    }\n",
              "\n",
              "    .dataframe thead th {\n",
              "        text-align: right;\n",
              "    }\n",
              "</style>\n",
              "<table border=\"1\" class=\"dataframe\">\n",
              "  <thead>\n",
              "    <tr style=\"text-align: right;\">\n",
              "      <th></th>\n",
              "      <th>VC</th>\n",
              "      <th>CF</th>\n",
              "      <th>PI</th>\n",
              "      <th>Ai</th>\n",
              "      <th>Rank</th>\n",
              "    </tr>\n",
              "  </thead>\n",
              "  <tbody>\n",
              "    <tr>\n",
              "      <th>0</th>\n",
              "      <td>0.294815</td>\n",
              "      <td>0.083954</td>\n",
              "      <td>0.040829</td>\n",
              "      <td>0.419597</td>\n",
              "      <td>4.0</td>\n",
              "    </tr>\n",
              "    <tr>\n",
              "      <th>1</th>\n",
              "      <td>0.373709</td>\n",
              "      <td>0.080919</td>\n",
              "      <td>0.030084</td>\n",
              "      <td>0.484713</td>\n",
              "      <td>3.0</td>\n",
              "    </tr>\n",
              "    <tr>\n",
              "      <th>2</th>\n",
              "      <td>0.676829</td>\n",
              "      <td>0.076322</td>\n",
              "      <td>0.019376</td>\n",
              "      <td>0.772527</td>\n",
              "      <td>2.0</td>\n",
              "    </tr>\n",
              "    <tr>\n",
              "      <th>3</th>\n",
              "      <td>0.714200</td>\n",
              "      <td>0.142900</td>\n",
              "      <td>0.026586</td>\n",
              "      <td>0.883686</td>\n",
              "      <td>1.0</td>\n",
              "    </tr>\n",
              "    <tr>\n",
              "      <th>4</th>\n",
              "      <td>0.049828</td>\n",
              "      <td>0.029201</td>\n",
              "      <td>0.142900</td>\n",
              "      <td>0.221929</td>\n",
              "      <td>5.0</td>\n",
              "    </tr>\n",
              "    <tr>\n",
              "      <th>5</th>\n",
              "      <td>0.066437</td>\n",
              "      <td>0.019189</td>\n",
              "      <td>0.060168</td>\n",
              "      <td>0.145795</td>\n",
              "      <td>6.0</td>\n",
              "    </tr>\n",
              "  </tbody>\n",
              "</table>\n",
              "</div>"
            ],
            "text/plain": [
              "         VC        CF        PI        Ai  Rank\n",
              "0  0.294815  0.083954  0.040829  0.419597   4.0\n",
              "1  0.373709  0.080919  0.030084  0.484713   3.0\n",
              "2  0.676829  0.076322  0.019376  0.772527   2.0\n",
              "3  0.714200  0.142900  0.026586  0.883686   1.0\n",
              "4  0.049828  0.029201  0.142900  0.221929   5.0\n",
              "5  0.066437  0.019189  0.060168  0.145795   6.0"
            ]
          },
          "metadata": {
            "tags": []
          },
          "execution_count": 22
        }
      ]
    },
    {
      "cell_type": "code",
      "metadata": {
        "id": "G8Y4cyaXNeSO",
        "colab_type": "code",
        "colab": {
          "base_uri": "https://localhost:8080/",
          "height": 283
        },
        "outputId": "fb6d9430-fa82-422d-872e-02dbdcf9e602"
      },
      "source": [
        "ndf = ndf.set_index('Rank')\n",
        "ndf = ndf.sort_index() \n",
        "print(\"Rank wise Sorting:\")\n",
        "ndf"
      ],
      "execution_count": 23,
      "outputs": [
        {
          "output_type": "stream",
          "text": [
            "Rank wise Sorting:\n"
          ],
          "name": "stdout"
        },
        {
          "output_type": "execute_result",
          "data": {
            "text/html": [
              "<div>\n",
              "<style scoped>\n",
              "    .dataframe tbody tr th:only-of-type {\n",
              "        vertical-align: middle;\n",
              "    }\n",
              "\n",
              "    .dataframe tbody tr th {\n",
              "        vertical-align: top;\n",
              "    }\n",
              "\n",
              "    .dataframe thead th {\n",
              "        text-align: right;\n",
              "    }\n",
              "</style>\n",
              "<table border=\"1\" class=\"dataframe\">\n",
              "  <thead>\n",
              "    <tr style=\"text-align: right;\">\n",
              "      <th></th>\n",
              "      <th>VC</th>\n",
              "      <th>CF</th>\n",
              "      <th>PI</th>\n",
              "      <th>Ai</th>\n",
              "    </tr>\n",
              "    <tr>\n",
              "      <th>Rank</th>\n",
              "      <th></th>\n",
              "      <th></th>\n",
              "      <th></th>\n",
              "      <th></th>\n",
              "    </tr>\n",
              "  </thead>\n",
              "  <tbody>\n",
              "    <tr>\n",
              "      <th>1.0</th>\n",
              "      <td>0.714200</td>\n",
              "      <td>0.142900</td>\n",
              "      <td>0.026586</td>\n",
              "      <td>0.883686</td>\n",
              "    </tr>\n",
              "    <tr>\n",
              "      <th>2.0</th>\n",
              "      <td>0.676829</td>\n",
              "      <td>0.076322</td>\n",
              "      <td>0.019376</td>\n",
              "      <td>0.772527</td>\n",
              "    </tr>\n",
              "    <tr>\n",
              "      <th>3.0</th>\n",
              "      <td>0.373709</td>\n",
              "      <td>0.080919</td>\n",
              "      <td>0.030084</td>\n",
              "      <td>0.484713</td>\n",
              "    </tr>\n",
              "    <tr>\n",
              "      <th>4.0</th>\n",
              "      <td>0.294815</td>\n",
              "      <td>0.083954</td>\n",
              "      <td>0.040829</td>\n",
              "      <td>0.419597</td>\n",
              "    </tr>\n",
              "    <tr>\n",
              "      <th>5.0</th>\n",
              "      <td>0.049828</td>\n",
              "      <td>0.029201</td>\n",
              "      <td>0.142900</td>\n",
              "      <td>0.221929</td>\n",
              "    </tr>\n",
              "    <tr>\n",
              "      <th>6.0</th>\n",
              "      <td>0.066437</td>\n",
              "      <td>0.019189</td>\n",
              "      <td>0.060168</td>\n",
              "      <td>0.145795</td>\n",
              "    </tr>\n",
              "  </tbody>\n",
              "</table>\n",
              "</div>"
            ],
            "text/plain": [
              "            VC        CF        PI        Ai\n",
              "Rank                                        \n",
              "1.0   0.714200  0.142900  0.026586  0.883686\n",
              "2.0   0.676829  0.076322  0.019376  0.772527\n",
              "3.0   0.373709  0.080919  0.030084  0.484713\n",
              "4.0   0.294815  0.083954  0.040829  0.419597\n",
              "5.0   0.049828  0.029201  0.142900  0.221929\n",
              "6.0   0.066437  0.019189  0.060168  0.145795"
            ]
          },
          "metadata": {
            "tags": []
          },
          "execution_count": 23
        }
      ]
    },
    {
      "cell_type": "markdown",
      "metadata": {
        "id": "7AnLPOsrNoPb",
        "colab_type": "text"
      },
      "source": [
        "**Hence W4 is the best choice.**"
      ]
    }
  ]
}